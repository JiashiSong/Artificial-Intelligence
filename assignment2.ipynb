{
 "cells": [
  {
   "cell_type": "code",
   "execution_count": 1,
   "metadata": {},
   "outputs": [
    {
     "name": "stderr",
     "output_type": "stream",
     "text": [
      "Using TensorFlow backend.\n"
     ]
    }
   ],
   "source": [
    "# load python packages\n",
    "%matplotlib inline\n",
    "import numpy as np\n",
    "import scipy as sp\n",
    "import pandas as pd\n",
    "import matplotlib\n",
    "import matplotlib.pyplot as plt\n",
    "import matplotlib\n",
    "import IPython\n",
    "import sklearn\n",
    "import keras\n",
    "import time"
   ]
  },
  {
   "cell_type": "code",
   "execution_count": 2,
   "metadata": {},
   "outputs": [
    {
     "name": "stdout",
     "output_type": "stream",
     "text": [
      "('numpy:', '1.14.2')\n",
      "('scipy:', '1.1.0rc1')\n",
      "('matplotlib:', '2.1.0')\n",
      "('iPython:', '5.5.0')\n",
      "('scikit-learn:', '0.19.1')\n",
      "('keras: ', '2.1.0')\n",
      "('Tensorflow: ', '1.4.0')\n"
     ]
    }
   ],
   "source": [
    "# print package version \n",
    "print('numpy:', np.__version__)\n",
    "print('scipy:', sp.__version__)\n",
    "print('matplotlib:', matplotlib.__version__)\n",
    "print('iPython:', IPython.__version__)\n",
    "print('scikit-learn:', sklearn.__version__)\n",
    "print('keras: ', keras.__version__)\n",
    "import tensorflow as tf\n",
    "print('Tensorflow: ', tf.__version__)"
   ]
  },
  {
   "cell_type": "code",
   "execution_count": 3,
   "metadata": {},
   "outputs": [],
   "source": [
    "# load dataset\n",
    "import scipy.io          \n",
    "dataset = scipy.io.loadmat('./dataset.mat')"
   ]
  },
  {
   "cell_type": "code",
   "execution_count": 4,
   "metadata": {},
   "outputs": [],
   "source": [
    "# get training and testing sets\n",
    "x_train = dataset['train_image']\n",
    "x_test = dataset['test_image']\n",
    "y_train = dataset['train_label']\n",
    "y_test = dataset['test_label']"
   ]
  },
  {
   "cell_type": "code",
   "execution_count": 5,
   "metadata": {},
   "outputs": [],
   "source": [
    "# P1 KNN clf\n",
    "def kNN_test(x_train, y_train, x_test, y_test, K):\n",
    "    dist = [[np.linalg.norm(_x_train - _x_test) \n",
    "             for _x_train in x_train] \n",
    "            for _x_test in x_test]\n",
    "    dist = np.array(dist)\n",
    "    idx = np.argsort(dist, axis=1)\n",
    "    idx = idx[:, :K]\n",
    "\n",
    "    y_predict = np.zeros(y_test.shape)\n",
    "    for i in range(y_test.shape[0]):\n",
    "        cls_topK = np.unique(y_train[idx[i,:]])\n",
    "        ncls_topK = [sum(idx[i,:] == _c) for _c in cls_topK]\n",
    "        major_idx = np.argsort(ncls_topK)\n",
    "        y_predict[i] = cls_topK[major_idx[-1]]\n",
    "    \n",
    "    return np.mean(y_predict == y_test), y_predict"
   ]
  },
  {
   "cell_type": "code",
   "execution_count": 6,
   "metadata": {},
   "outputs": [],
   "source": [
    "nmb_samples, img_rows, img_cols = x_train.shape[0], x_train.shape[1], x_train.shape[2]\n",
    "nmb_test_samples = x_test.shape[0]\n",
    "x_train_vec = x_train.reshape(nmb_samples, img_rows*img_cols)\n",
    "x_test_vec = x_test.reshape(nmb_test_samples, img_rows*img_cols)"
   ]
  },
  {
   "cell_type": "code",
   "execution_count": 7,
   "metadata": {},
   "outputs": [
    {
     "name": "stdout",
     "output_type": "stream",
     "text": [
      "('time ', [0.26155519485473633, 0.26258111000061035, 0.2598578929901123, 0.2627718448638916, 0.2629539966583252, 0.26354503631591797, 0.26389598846435547, 0.2650289535522461, 0.27019309997558594, 0.26705408096313477])\n",
      "('test acc ', [0.8, 0.785, 0.71, 0.645, 0.615, 0.58, 0.555, 0.555, 0.55, 0.54])\n"
     ]
    }
   ],
   "source": [
    "K = [i for i in range(1,11)]\n",
    "train_acc = [kNN_test(x_train_vec, \n",
    "                      y_train,\n",
    "                      x_train_vec,\n",
    "                      y_train,\n",
    "                      _K)[0] \n",
    "             for _K in K]\n",
    "\n",
    "test_acc = []\n",
    "runtime = []\n",
    "for _K in K:\n",
    "    t1 = time.time()\n",
    "    tmp = kNN_test(x_train_vec, \n",
    "                     y_train,\n",
    "                     x_test_vec,\n",
    "                     y_test,\n",
    "                     _K)\n",
    "    t2 = time.time()\n",
    "    test_acc.append(tmp[0])\n",
    "    runtime.append(t2-t1)\n",
    "\n",
    "print('time ', runtime)\n",
    "print('test acc ', test_acc)"
   ]
  },
  {
   "cell_type": "code",
   "execution_count": 8,
   "metadata": {},
   "outputs": [
    {
     "name": "stdout",
     "output_type": "stream",
     "text": [
      "('train acc', [1.0, 0.905, 0.795, 0.73, 0.655, 0.62, 0.605, 0.585, 0.575, 0.57])\n"
     ]
    }
   ],
   "source": [
    "print('train acc', train_acc)"
   ]
  },
  {
   "cell_type": "code",
   "execution_count": 9,
   "metadata": {},
   "outputs": [
    {
     "data": {
      "text/plain": [
       "<matplotlib.legend.Legend at 0x7fbb12064590>"
      ]
     },
     "execution_count": 9,
     "metadata": {},
     "output_type": "execute_result"
    },
    {
     "data": {
      "image/png": "[encoded data removed]",
      "text/plain": [
       "<matplotlib.figure.Figure at 0x7fbb1204af10>"
      ]
     },
     "metadata": {},
     "output_type": "display_data"
    }
   ],
   "source": [
    "plt.plot(K, train_acc, K, test_acc)\n",
    "plt.xlabel('K')\n",
    "plt.title('acc')\n",
    "plt.legend(['training', 'testing'])"
   ]
  },
  {
   "cell_type": "markdown",
   "metadata": {},
   "source": [
    "the value of $K$, where generalisation is best, must be 1."
   ]
  },
  {
   "cell_type": "code",
   "execution_count": 10,
   "metadata": {},
   "outputs": [],
   "source": [
    "# P2 decision tree\n",
    "# C4.5 algorithm\n",
    "\n",
    "height = 1\n",
    "\n",
    "class node:\n",
    "    def __init__(self):\n",
    "        self.children = []\n",
    "        self.col = -1\n",
    "        self.height = 0\n",
    "        self.split = 0.0\n",
    "        self.label = -1\n",
    "\n",
    "def entropy(y):\n",
    "    prob = [np.mean(y == c) for c in np.unique(y)]\n",
    "    return np.sum([-p*np.log2(p) for p in prob])\n",
    "\n",
    "def gain(x, col, split, y):\n",
    "    y_sub_prob = [np.mean(x[:,col] <= split), np.mean(x[:,col] > split)]\n",
    "    y_sub_ent = [entropy(y[x[:,col] <= split]), entropy(y[x[:,col] > split])]\n",
    "    return entropy(y) - np.sum(np.array(y_sub_prob)*np.array(y_sub_ent))\n",
    "\n",
    "def gain_ratio(x, col, split, y):\n",
    "    y_sub_prob = [np.mean(x[:,col] <= split), np.mean(x[:,col] > split)]\n",
    "    y_sub_ent = [entropy(y[x[:,col] <= split]), entropy(y[x[:,col] > split])]\n",
    "    return (entropy(y) - np.sum(np.array(y_sub_prob)*np.array(y_sub_ent))) / entropy(x[:,col]<=split)\n",
    "\n",
    "def dt_build(x, y, threshold = 0.05):\n",
    "    if len(np.unique(y)) == 1:\n",
    "        n = node()\n",
    "        n.label = np.unique(y)[0]\n",
    "        return n\n",
    "    \n",
    "    if entropy(y) < threshold:  # pre-pruning\n",
    "        n = node()\n",
    "        c, count = np.unique(y, return_counts=True)\n",
    "        n.label = c[np.argmax(count)]\n",
    "        return n\n",
    "    \n",
    "    x_gr = np.zeros(x.shape[1])\n",
    "    x_split = np.zeros(x.shape[1])\n",
    "    for col in range(x.shape[1]):\n",
    "        x_col_sort = np.sort(np.unique(x[:,col]))\n",
    "        x_col_split = (x_col_sort[:-1] + x_col_sort[1:]) / 2\n",
    "        x_col_gr = [gain(x, col, split, y) for split in x_col_split]        \n",
    "        x_split[col] = x_col_split[np.argmax(x_col_gr)]\n",
    "        x_gr[col] = np.max(x_col_gr)\n",
    "    \n",
    "    choose_col = np.argmax(x_gr)\n",
    "    print('choose col ', choose_col, '; gain information content ', np.max(x_gr))\n",
    "    n = node()\n",
    "    n.col = choose_col\n",
    "    n.split = x_split[choose_col]\n",
    "    lidx = x[:,n.col] <= n.split\n",
    "    ridx = x[:,n.col] > n.split\n",
    "    nx = x\n",
    "    #nx = np.delete(x, n.col, axis=1)\n",
    "    n.children = [dt_build(nx[lidx,:], y[lidx], threshold=threshold), \n",
    "                  dt_build(nx[ridx,:], y[ridx], threshold=threshold)]\n",
    "    return n\n",
    "\n",
    "import copy\n",
    "\n",
    "def dt_test(tree, x, y):\n",
    "    z = np.zeros(y.shape)\n",
    "    for i in range(y.shape[0]):\n",
    "        tmp = copy.deepcopy(tree)\n",
    "        while len(tmp.children) != 0:\n",
    "            if x[i,tmp.col] <= tmp.split:\n",
    "                tmp = tmp.children[0]\n",
    "            else:\n",
    "                tmp = tmp.children[1]\n",
    "        z[i] = tmp.label\n",
    "    return np.mean(y == z)"
   ]
  },
  {
   "cell_type": "code",
   "execution_count": 11,
   "metadata": {
    "scrolled": true
   },
   "outputs": [
    {
     "name": "stdout",
     "output_type": "stream",
     "text": [
      "('choose col ', 502, '; gain information content ', 0.13479377861106212)\n",
      "('choose col ', 504, '; gain information content ', 0.09901096847456303)\n",
      "('choose col ', 221, '; gain information content ', 0.07753907410251204)\n",
      "('choose col ', 300, '; gain information content ', 0.07685894780283287)\n",
      "('choose col ', 537, '; gain information content ', 0.08657102732853394)\n",
      "('choose col ', 458, '; gain information content ', 0.12843176475156004)\n",
      "('choose col ', 548, '; gain information content ', 0.11949107660206071)\n",
      "('choose col ', 218, '; gain information content ', 0.13058823086139837)\n",
      "('choose col ', 439, '; gain information content ', 0.1462940247002652)\n",
      "('choose col ', 262, '; gain information content ', 0.1805635859906891)\n",
      "('choose col ', 522, '; gain information content ', 0.34729178747783596)\n",
      "('choose col ', 332, '; gain information content ', 0.3323998884020468)\n",
      "('choose col ', 434, '; gain information content ', 0.5819765115539188)\n",
      "('choose col ', 4, '; gain information content ', 0.7642045065086203)\n",
      "('choose col ', 1, '; gain information content ', 0.39124356362925566)\n",
      "('choose col ', 5, '; gain information content ', 0.3095434291503252)\n",
      "('choose col ', 11, '; gain information content ', 0.3227569588973982)\n",
      "('choose col ', 61, '; gain information content ', 0.3227569588973982)\n"
     ]
    }
   ],
   "source": [
    "model = dt_build(x_train_vec, y_train, threshold=0.1)"
   ]
  },
  {
   "cell_type": "code",
   "execution_count": 12,
   "metadata": {},
   "outputs": [
    {
     "data": {
      "text/plain": [
       "0.595"
      ]
     },
     "execution_count": 12,
     "metadata": {},
     "output_type": "execute_result"
    }
   ],
   "source": [
    "dt_test(model, x_test_vec, y_test)"
   ]
  },
  {
   "cell_type": "code",
   "execution_count": 13,
   "metadata": {},
   "outputs": [
    {
     "name": "stdout",
     "output_type": "stream",
     "text": [
      "('choose col ', 502, '; gain information content ', 0.13479377861106212)\n",
      "('choose col ', 504, '; gain information content ', 0.09901096847456303)\n",
      "('choose col ', 221, '; gain information content ', 0.07753907410251204)\n",
      "('choose col ', 300, '; gain information content ', 0.07685894780283287)\n",
      "('choose col ', 537, '; gain information content ', 0.08657102732853394)\n",
      "('choose col ', 458, '; gain information content ', 0.12843176475156004)\n",
      "('choose col ', 548, '; gain information content ', 0.11949107660206071)\n",
      "('choose col ', 218, '; gain information content ', 0.13058823086139837)\n",
      "('choose col ', 439, '; gain information content ', 0.1462940247002652)\n",
      "('choose col ', 262, '; gain information content ', 0.1805635859906891)\n",
      "('choose col ', 522, '; gain information content ', 0.34729178747783596)\n",
      "('choose col ', 332, '; gain information content ', 0.3323998884020468)\n",
      "('choose col ', 434, '; gain information content ', 0.5819765115539188)\n",
      "('choose col ', 4, '; gain information content ', 0.7642045065086203)\n",
      "('choose col ', 502, '; gain information content ', 0.13479377861106212)\n",
      "('choose col ', 504, '; gain information content ', 0.09901096847456303)\n",
      "('choose col ', 221, '; gain information content ', 0.07753907410251204)\n",
      "('choose col ', 300, '; gain information content ', 0.07685894780283287)\n",
      "('choose col ', 537, '; gain information content ', 0.08657102732853394)\n",
      "('choose col ', 458, '; gain information content ', 0.12843176475156004)\n",
      "('choose col ', 548, '; gain information content ', 0.11949107660206071)\n",
      "('choose col ', 218, '; gain information content ', 0.13058823086139837)\n",
      "('choose col ', 439, '; gain information content ', 0.1462940247002652)\n",
      "('choose col ', 262, '; gain information content ', 0.1805635859906891)\n",
      "('choose col ', 522, '; gain information content ', 0.34729178747783596)\n",
      "('choose col ', 332, '; gain information content ', 0.3323998884020468)\n",
      "('choose col ', 434, '; gain information content ', 0.5819765115539188)\n",
      "('choose col ', 4, '; gain information content ', 0.7642045065086203)\n",
      "('choose col ', 502, '; gain information content ', 0.13479377861106212)\n",
      "('choose col ', 504, '; gain information content ', 0.09901096847456303)\n",
      "('choose col ', 221, '; gain information content ', 0.07753907410251204)\n",
      "('choose col ', 300, '; gain information content ', 0.07685894780283287)\n",
      "('choose col ', 537, '; gain information content ', 0.08657102732853394)\n",
      "('choose col ', 458, '; gain information content ', 0.12843176475156004)\n",
      "('choose col ', 548, '; gain information content ', 0.11949107660206071)\n",
      "('choose col ', 218, '; gain information content ', 0.13058823086139837)\n",
      "('choose col ', 439, '; gain information content ', 0.1462940247002652)\n",
      "('choose col ', 262, '; gain information content ', 0.1805635859906891)\n",
      "('choose col ', 522, '; gain information content ', 0.34729178747783596)\n",
      "('choose col ', 332, '; gain information content ', 0.3323998884020468)\n",
      "('choose col ', 434, '; gain information content ', 0.5819765115539188)\n",
      "('choose col ', 4, '; gain information content ', 0.7642045065086203)\n",
      "('choose col ', 1, '; gain information content ', 0.39124356362925566)\n",
      "('choose col ', 5, '; gain information content ', 0.3095434291503252)\n",
      "('choose col ', 11, '; gain information content ', 0.3227569588973982)\n",
      "('choose col ', 61, '; gain information content ', 0.3227569588973982)\n",
      "('choose col ', 502, '; gain information content ', 0.13479377861106212)\n",
      "('choose col ', 504, '; gain information content ', 0.09901096847456303)\n",
      "('choose col ', 221, '; gain information content ', 0.07753907410251204)\n",
      "('choose col ', 300, '; gain information content ', 0.07685894780283287)\n",
      "('choose col ', 537, '; gain information content ', 0.08657102732853394)\n",
      "('choose col ', 458, '; gain information content ', 0.12843176475156004)\n",
      "('choose col ', 548, '; gain information content ', 0.11949107660206071)\n",
      "('choose col ', 218, '; gain information content ', 0.13058823086139837)\n",
      "('choose col ', 439, '; gain information content ', 0.1462940247002652)\n",
      "('choose col ', 262, '; gain information content ', 0.1805635859906891)\n",
      "('choose col ', 522, '; gain information content ', 0.34729178747783596)\n",
      "('choose col ', 332, '; gain information content ', 0.3323998884020468)\n",
      "('choose col ', 434, '; gain information content ', 0.5819765115539188)\n",
      "('choose col ', 4, '; gain information content ', 0.7642045065086203)\n",
      "('choose col ', 1, '; gain information content ', 0.39124356362925566)\n",
      "('choose col ', 5, '; gain information content ', 0.3095434291503252)\n",
      "('choose col ', 11, '; gain information content ', 0.3227569588973982)\n",
      "('choose col ', 61, '; gain information content ', 0.3227569588973982)\n",
      "('choose col ', 502, '; gain information content ', 0.13479377861106212)\n",
      "('choose col ', 504, '; gain information content ', 0.09901096847456303)\n",
      "('choose col ', 221, '; gain information content ', 0.07753907410251204)\n",
      "('choose col ', 300, '; gain information content ', 0.07685894780283287)\n",
      "('choose col ', 537, '; gain information content ', 0.08657102732853394)\n",
      "('choose col ', 458, '; gain information content ', 0.12843176475156004)\n",
      "('choose col ', 548, '; gain information content ', 0.11949107660206071)\n",
      "('choose col ', 218, '; gain information content ', 0.13058823086139837)\n",
      "('choose col ', 439, '; gain information content ', 0.1462940247002652)\n",
      "('choose col ', 262, '; gain information content ', 0.1805635859906891)\n",
      "('choose col ', 522, '; gain information content ', 0.34729178747783596)\n",
      "('choose col ', 332, '; gain information content ', 0.3323998884020468)\n",
      "('choose col ', 434, '; gain information content ', 0.5819765115539188)\n",
      "('choose col ', 4, '; gain information content ', 0.7642045065086203)\n",
      "('choose col ', 1, '; gain information content ', 0.39124356362925566)\n",
      "('choose col ', 5, '; gain information content ', 0.3095434291503252)\n",
      "('choose col ', 11, '; gain information content ', 0.3227569588973982)\n",
      "('choose col ', 61, '; gain information content ', 0.3227569588973982)\n",
      "('choose col ', 502, '; gain information content ', 0.13479377861106212)\n",
      "('choose col ', 504, '; gain information content ', 0.09901096847456303)\n",
      "('choose col ', 221, '; gain information content ', 0.07753907410251204)\n",
      "('choose col ', 300, '; gain information content ', 0.07685894780283287)\n",
      "('choose col ', 537, '; gain information content ', 0.08657102732853394)\n",
      "('choose col ', 458, '; gain information content ', 0.12843176475156004)\n",
      "('choose col ', 548, '; gain information content ', 0.11949107660206071)\n",
      "('choose col ', 218, '; gain information content ', 0.13058823086139837)\n",
      "('choose col ', 439, '; gain information content ', 0.1462940247002652)\n",
      "('choose col ', 262, '; gain information content ', 0.1805635859906891)\n",
      "('choose col ', 522, '; gain information content ', 0.34729178747783596)\n",
      "('choose col ', 332, '; gain information content ', 0.3323998884020468)\n",
      "('choose col ', 434, '; gain information content ', 0.5819765115539188)\n",
      "('choose col ', 4, '; gain information content ', 0.7642045065086203)\n",
      "('choose col ', 1, '; gain information content ', 0.39124356362925566)\n",
      "('choose col ', 5, '; gain information content ', 0.3095434291503252)\n",
      "('choose col ', 11, '; gain information content ', 0.3227569588973982)\n",
      "('choose col ', 61, '; gain information content ', 0.3227569588973982)\n",
      "('IC ', [0.5, 0.4, 0.3, 0.2, 0.1, 0.0])\n",
      "('training runtime ', [227.52312994003296, 231.62402606010437, 243.56107687950134, 246.6845259666443, 245.73973393440247, 246.26796793937683])\n",
      "('training accuracy ', [0.975, 0.975, 1.0, 1.0, 1.0, 1.0])\n",
      "('testing runtime ', [0.07831716537475586, 0.0789651870727539, 0.11467480659484863, 0.10024905204772949, 0.10030102729797363, 0.12004995346069336])\n",
      "('testing accuracy ', [0.64, 0.64, 0.595, 0.595, 0.595, 0.595])\n"
     ]
    }
   ],
   "source": [
    "IC = [0.5, 0.4, 0.3, 0.2, 0.1, 0.0]\n",
    "train_runtime = []\n",
    "test_runtime = []\n",
    "train_acc = []\n",
    "test_acc = []\n",
    "for _IC in IC:\n",
    "    t1 = time.time()\n",
    "    model = dt_build(x_train_vec, y_train, threshold=_IC)\n",
    "    t2 = time.time()\n",
    "    train_runtime.append(t2-t1)\n",
    "    \n",
    "    train_acc.append(dt_test(model, x_train_vec, y_train))\n",
    "    t1 = time.time()\n",
    "    test_acc.append(dt_test(model, x_test_vec, y_test))\n",
    "    t2 = time.time()\n",
    "    test_runtime.append(t2-t1)\n",
    "\n",
    "print('IC ', IC)\n",
    "print('training runtime ', train_runtime)\n",
    "print('training accuracy ', train_acc)\n",
    "print('testing runtime ', test_runtime)\n",
    "print('testing accuracy ', test_acc)"
   ]
  },
  {
   "cell_type": "code",
   "execution_count": 14,
   "metadata": {},
   "outputs": [
    {
     "data": {
      "text/plain": [
       "<matplotlib.legend.Legend at 0x7fbc8a023b50>"
      ]
     },
     "execution_count": 14,
     "metadata": {},
     "output_type": "execute_result"
    },
    {
     "data": {
      "image/png": "[encoded data removed]",
      "text/plain": [
       "<matplotlib.figure.Figure at 0x7fbc8f09b7d0>"
      ]
     },
     "metadata": {},
     "output_type": "display_data"
    }
   ],
   "source": [
    "plt.plot(IC, train_acc, IC, test_acc)\n",
    "plt.xlabel('IC')\n",
    "plt.title('acc')\n",
    "plt.legend(['training', 'testing'])"
   ]
  },
  {
   "cell_type": "code",
   "execution_count": 5,
   "metadata": {},
   "outputs": [],
   "source": [
    "# import keras packages\n",
    "from keras.models import Sequential\n",
    "from keras.layers import Dense, Flatten\n",
    "from keras.layers import Conv2D, MaxPooling2D, Dropout\n",
    "from keras import backend as K"
   ]
  },
  {
   "cell_type": "code",
   "execution_count": 6,
   "metadata": {},
   "outputs": [],
   "source": [
    "# load dataset        \n",
    "dataset = scipy.io.loadmat('./dataset.mat')\n",
    "x_train = dataset['train_image']\n",
    "x_test = dataset['test_image']\n",
    "y_train = dataset['train_label']\n",
    "y_test = dataset['test_label']\n",
    "\n",
    "# batch size for gradient descent\n",
    "batch_size = 32\n",
    "# number of classes\n",
    "num_classes = 2\n",
    "# number of epochs (1 epoch = amount of iterations that covers the whole training set)\n",
    "epochs = 200 # try a larger number of epochs here (for example 10 or larger)\n",
    "# input image dimensions\n",
    "nmb_samples, img_rows, img_cols = x_train.shape[0], x_train.shape[1], x_train.shape[2]\n",
    "nmb_test_samples = x_test.shape[0]"
   ]
  },
  {
   "cell_type": "code",
   "execution_count": 7,
   "metadata": {},
   "outputs": [],
   "source": [
    "# adjust training image format\n",
    "if K.image_data_format() == 'channels_first':\n",
    "    x_train = x_train.reshape(x_train.shape[0], 1, img_rows, img_cols)\n",
    "    x_test = x_test.reshape(x_test.shape[0], 1, img_rows, img_cols)\n",
    "    input_shape = (1, img_rows, img_cols)\n",
    "else:\n",
    "    x_train = x_train.reshape(x_train.shape[0], img_rows, img_cols, 1)\n",
    "    x_test = x_test.reshape(x_test.shape[0], img_rows, img_cols, 1)\n",
    "    input_shape = (img_rows, img_cols, 1)"
   ]
  },
  {
   "cell_type": "code",
   "execution_count": 8,
   "metadata": {
    "scrolled": true
   },
   "outputs": [
    {
     "data": {
      "image/png": "[encoded data removed]",
      "text/plain": [
       "<matplotlib.figure.Figure at 0x7f61772d1d90>"
      ]
     },
     "metadata": {},
     "output_type": "display_data"
    },
    {
     "data": {
      "image/png": "[encoded data removed]",
      "text/plain": [
       "<matplotlib.figure.Figure at 0x7f6177213890>"
      ]
     },
     "metadata": {},
     "output_type": "display_data"
    },
    {
     "data": {
      "image/png": "[encoded data removed]",
      "text/plain": [
       "<matplotlib.figure.Figure at 0x7f6174f47410>"
      ]
     },
     "metadata": {},
     "output_type": "display_data"
    },
    {
     "data": {
      "image/png": "[encoded data removed]",
      "text/plain": [
       "<matplotlib.figure.Figure at 0x7f6173cd1610>"
      ]
     },
     "metadata": {},
     "output_type": "display_data"
    },
    {
     "data": {
      "image/png": "[encoded data removed]",
      "text/plain": [
       "<matplotlib.figure.Figure at 0x7f6173c443d0>"
      ]
     },
     "metadata": {},
     "output_type": "display_data"
    },
    {
     "data": {
      "image/png": "[encoded data removed]",
      "text/plain": [
       "<matplotlib.figure.Figure at 0x7f6173c31fd0>"
      ]
     },
     "metadata": {},
     "output_type": "display_data"
    },
    {
     "data": {
      "image/png": "[encoded data removed]",
      "text/plain": [
       "<matplotlib.figure.Figure at 0x7f6173ba2f10>"
      ]
     },
     "metadata": {},
     "output_type": "display_data"
    },
    {
     "data": {
      "image/png": "[encoded data removed]",
      "text/plain": [
       "<matplotlib.figure.Figure at 0x7f6173b12fd0>"
      ]
     },
     "metadata": {},
     "output_type": "display_data"
    },
    {
     "data": {
      "image/png": "[encoded data removed]",
      "text/plain": [
       "<matplotlib.figure.Figure at 0x7f6173a83e90>"
      ]
     },
     "metadata": {},
     "output_type": "display_data"
    },
    {
     "data": {
      "image/png": "[encoded data removed]",
      "text/plain": [
       "<matplotlib.figure.Figure at 0x7f6173b09950>"
      ]
     },
     "metadata": {},
     "output_type": "display_data"
    }
   ],
   "source": [
    "# display some training images\n",
    "for i in range(10):\n",
    "    first_image = x_train[i,:,:,0]\n",
    "    first_image = np.array(first_image, dtype='float')\n",
    "    pixels = first_image.reshape((img_rows, img_cols))\n",
    "    plt.imshow(pixels, cmap='gray')\n",
    "    plt.show()"
   ]
  },
  {
   "cell_type": "code",
   "execution_count": 9,
   "metadata": {},
   "outputs": [],
   "source": [
    "# convert class vectors to binary class matrices (one hot vectors)\n",
    "y_train = keras.utils.to_categorical(np.squeeze(y_train), num_classes)\n",
    "y_test = keras.utils.to_categorical(np.squeeze(y_test), num_classes)"
   ]
  },
  {
   "cell_type": "code",
   "execution_count": 10,
   "metadata": {},
   "outputs": [],
   "source": [
    "# define LeNet\n",
    "model = Sequential()\n",
    "model.add(Conv2D(32, kernel_size=(5, 5),\n",
    "                 activation='relu',\n",
    "                 input_shape=input_shape))\n",
    "model.add(MaxPooling2D(pool_size=(2, 2)))\n",
    "model.add(Conv2D(64, (5, 5), activation='relu'))\n",
    "model.add(MaxPooling2D(pool_size=(2, 2)))\n",
    "model.add(Flatten())\n",
    "model.add(Dense(1024, activation='relu'))\n",
    "model.add(Dropout(0.5))\n",
    "model.add(Dense(num_classes, activation='softmax'))"
   ]
  },
  {
   "cell_type": "code",
   "execution_count": 11,
   "metadata": {},
   "outputs": [],
   "source": [
    "# compile model\n",
    "model.compile(loss=keras.losses.categorical_crossentropy,\n",
    "              optimizer=keras.optimizers.Adadelta(),\n",
    "              metrics=['accuracy'])"
   ]
  },
  {
   "cell_type": "code",
   "execution_count": 12,
   "metadata": {
    "scrolled": true
   },
   "outputs": [
    {
     "name": "stdout",
     "output_type": "stream",
     "text": [
      "Train on 200 samples, validate on 200 samples\n",
      "Epoch 1/200\n",
      "200/200 [==============================] - 5s 26ms/step - loss: 0.7042 - acc: 0.4800 - val_loss: 0.6904 - val_acc: 0.5000\n",
      "Epoch 2/200\n",
      "200/200 [==============================] - 0s 360us/step - loss: 0.7007 - acc: 0.5400 - val_loss: 0.6910 - val_acc: 0.5000\n",
      "Epoch 3/200\n",
      "200/200 [==============================] - 0s 353us/step - loss: 0.6828 - acc: 0.6000 - val_loss: 0.7325 - val_acc: 0.5000\n",
      "Epoch 4/200\n",
      "200/200 [==============================] - 0s 364us/step - loss: 0.7017 - acc: 0.5000 - val_loss: 0.6851 - val_acc: 0.6350\n",
      "Epoch 5/200\n",
      "200/200 [==============================] - 0s 351us/step - loss: 0.6773 - acc: 0.6150 - val_loss: 0.6881 - val_acc: 0.5000\n",
      "Epoch 6/200\n",
      "200/200 [==============================] - 0s 407us/step - loss: 0.6825 - acc: 0.5550 - val_loss: 0.6938 - val_acc: 0.5000\n",
      "Epoch 7/200\n",
      "200/200 [==============================] - 0s 346us/step - loss: 0.6713 - acc: 0.5900 - val_loss: 0.6872 - val_acc: 0.5050\n",
      "Epoch 8/200\n",
      "200/200 [==============================] - 0s 329us/step - loss: 0.6712 - acc: 0.5750 - val_loss: 0.6883 - val_acc: 0.5050\n",
      "Epoch 9/200\n",
      "200/200 [==============================] - 0s 346us/step - loss: 0.6843 - acc: 0.5300 - val_loss: 0.6655 - val_acc: 0.6650\n",
      "Epoch 10/200\n",
      "200/200 [==============================] - 0s 389us/step - loss: 0.6475 - acc: 0.6300 - val_loss: 0.6551 - val_acc: 0.6500\n",
      "Epoch 11/200\n",
      "200/200 [==============================] - 0s 389us/step - loss: 0.6319 - acc: 0.6850 - val_loss: 0.6693 - val_acc: 0.5700\n",
      "Epoch 12/200\n",
      "200/200 [==============================] - 0s 388us/step - loss: 0.6536 - acc: 0.6300 - val_loss: 0.6546 - val_acc: 0.6100\n",
      "Epoch 13/200\n",
      "200/200 [==============================] - 0s 370us/step - loss: 0.6358 - acc: 0.6550 - val_loss: 0.7014 - val_acc: 0.5150\n",
      "Epoch 14/200\n",
      "200/200 [==============================] - 0s 352us/step - loss: 0.6588 - acc: 0.5850 - val_loss: 0.6347 - val_acc: 0.6500\n",
      "Epoch 15/200\n",
      "200/200 [==============================] - 0s 356us/step - loss: 0.6077 - acc: 0.6650 - val_loss: 0.6368 - val_acc: 0.6700\n",
      "Epoch 16/200\n",
      "200/200 [==============================] - 0s 318us/step - loss: 0.5817 - acc: 0.6800 - val_loss: 0.5907 - val_acc: 0.7000\n",
      "Epoch 17/200\n",
      "200/200 [==============================] - 0s 392us/step - loss: 0.5641 - acc: 0.7300 - val_loss: 0.5881 - val_acc: 0.6950\n",
      "Epoch 18/200\n",
      "200/200 [==============================] - 0s 351us/step - loss: 0.5585 - acc: 0.7350 - val_loss: 0.6013 - val_acc: 0.6800\n",
      "Epoch 19/200\n",
      "200/200 [==============================] - 0s 364us/step - loss: 0.5167 - acc: 0.7750 - val_loss: 0.5510 - val_acc: 0.7450\n",
      "Epoch 20/200\n",
      "200/200 [==============================] - 0s 370us/step - loss: 0.5359 - acc: 0.7250 - val_loss: 0.6984 - val_acc: 0.5550\n",
      "Epoch 21/200\n",
      "200/200 [==============================] - 0s 351us/step - loss: 0.5489 - acc: 0.7450 - val_loss: 0.5263 - val_acc: 0.7600\n",
      "Epoch 22/200\n",
      "200/200 [==============================] - 0s 358us/step - loss: 0.4312 - acc: 0.8250 - val_loss: 0.4624 - val_acc: 0.8200\n",
      "Epoch 23/200\n",
      "200/200 [==============================] - 0s 345us/step - loss: 0.4059 - acc: 0.8450 - val_loss: 0.4949 - val_acc: 0.7050\n",
      "Epoch 24/200\n",
      "200/200 [==============================] - 0s 397us/step - loss: 0.3727 - acc: 0.8300 - val_loss: 0.5497 - val_acc: 0.6700\n",
      "Epoch 25/200\n",
      "200/200 [==============================] - 0s 385us/step - loss: 0.3230 - acc: 0.9000 - val_loss: 0.5545 - val_acc: 0.6400\n",
      "Epoch 26/200\n",
      "200/200 [==============================] - 0s 389us/step - loss: 0.3191 - acc: 0.8950 - val_loss: 0.4411 - val_acc: 0.8050\n",
      "Epoch 27/200\n",
      "200/200 [==============================] - 0s 344us/step - loss: 0.2378 - acc: 0.9500 - val_loss: 0.3357 - val_acc: 0.8100\n",
      "Epoch 28/200\n",
      "200/200 [==============================] - 0s 325us/step - loss: 0.2962 - acc: 0.8750 - val_loss: 0.2947 - val_acc: 0.8750\n",
      "Epoch 29/200\n",
      "200/200 [==============================] - 0s 350us/step - loss: 0.2065 - acc: 0.9450 - val_loss: 0.3141 - val_acc: 0.8800\n",
      "Epoch 30/200\n",
      "200/200 [==============================] - 0s 361us/step - loss: 0.1666 - acc: 0.9600 - val_loss: 0.2456 - val_acc: 0.9000\n",
      "Epoch 31/200\n",
      "200/200 [==============================] - 0s 369us/step - loss: 0.1296 - acc: 0.9700 - val_loss: 0.1897 - val_acc: 0.9500\n",
      "Epoch 32/200\n",
      "200/200 [==============================] - 0s 344us/step - loss: 0.1270 - acc: 0.9800 - val_loss: 0.2937 - val_acc: 0.8850\n",
      "Epoch 33/200\n",
      "200/200 [==============================] - 0s 367us/step - loss: 0.0955 - acc: 0.9750 - val_loss: 0.1621 - val_acc: 0.9450\n",
      "Epoch 34/200\n",
      "200/200 [==============================] - 0s 354us/step - loss: 0.0836 - acc: 0.9900 - val_loss: 0.2469 - val_acc: 0.8500\n",
      "Epoch 35/200\n",
      "200/200 [==============================] - 0s 394us/step - loss: 0.0943 - acc: 0.9800 - val_loss: 0.1386 - val_acc: 0.9650\n",
      "Epoch 36/200\n",
      "200/200 [==============================] - 0s 369us/step - loss: 0.0748 - acc: 0.9850 - val_loss: 0.1094 - val_acc: 0.9800\n",
      "Epoch 37/200\n",
      "200/200 [==============================] - 0s 333us/step - loss: 0.0527 - acc: 0.9950 - val_loss: 0.1097 - val_acc: 0.9700\n",
      "Epoch 38/200\n",
      "200/200 [==============================] - 0s 319us/step - loss: 0.0481 - acc: 0.9950 - val_loss: 0.1270 - val_acc: 0.9650\n",
      "Epoch 39/200\n",
      "200/200 [==============================] - 0s 339us/step - loss: 0.0396 - acc: 1.0000 - val_loss: 0.0965 - val_acc: 0.9700\n",
      "Epoch 40/200\n",
      "200/200 [==============================] - 0s 388us/step - loss: 0.0356 - acc: 1.0000 - val_loss: 0.0982 - val_acc: 0.9750\n",
      "Epoch 41/200\n",
      "200/200 [==============================] - 0s 360us/step - loss: 0.0308 - acc: 1.0000 - val_loss: 0.1022 - val_acc: 0.9800\n",
      "Epoch 42/200\n",
      "200/200 [==============================] - 0s 340us/step - loss: 0.0331 - acc: 1.0000 - val_loss: 0.0881 - val_acc: 0.9800\n",
      "Epoch 43/200\n",
      "200/200 [==============================] - 0s 395us/step - loss: 0.0239 - acc: 1.0000 - val_loss: 0.0780 - val_acc: 0.9800\n",
      "Epoch 44/200\n",
      "200/200 [==============================] - 0s 376us/step - loss: 0.0249 - acc: 1.0000 - val_loss: 0.0781 - val_acc: 0.9750\n",
      "Epoch 45/200\n",
      "200/200 [==============================] - 0s 388us/step - loss: 0.0204 - acc: 1.0000 - val_loss: 0.0723 - val_acc: 0.9850\n",
      "Epoch 46/200\n",
      "200/200 [==============================] - 0s 376us/step - loss: 0.0182 - acc: 1.0000 - val_loss: 0.0867 - val_acc: 0.9750\n",
      "Epoch 47/200\n",
      "200/200 [==============================] - 0s 405us/step - loss: 0.0150 - acc: 1.0000 - val_loss: 0.0717 - val_acc: 0.9850\n",
      "Epoch 48/200\n",
      "200/200 [==============================] - 0s 398us/step - loss: 0.0157 - acc: 1.0000 - val_loss: 0.0684 - val_acc: 0.9800\n",
      "Epoch 49/200\n",
      "200/200 [==============================] - 0s 389us/step - loss: 0.0136 - acc: 1.0000 - val_loss: 0.1024 - val_acc: 0.9650\n",
      "Epoch 50/200\n",
      "200/200 [==============================] - 0s 407us/step - loss: 0.0126 - acc: 1.0000 - val_loss: 0.0672 - val_acc: 0.9800\n",
      "Epoch 51/200\n",
      "200/200 [==============================] - 0s 403us/step - loss: 0.0099 - acc: 1.0000 - val_loss: 0.0744 - val_acc: 0.9750\n",
      "Epoch 52/200\n",
      "200/200 [==============================] - 0s 365us/step - loss: 0.0110 - acc: 1.0000 - val_loss: 0.0653 - val_acc: 0.9800\n",
      "Epoch 53/200\n",
      "200/200 [==============================] - 0s 393us/step - loss: 0.0088 - acc: 1.0000 - val_loss: 0.0720 - val_acc: 0.9750\n",
      "Epoch 54/200\n",
      "200/200 [==============================] - 0s 336us/step - loss: 0.0116 - acc: 1.0000 - val_loss: 0.0679 - val_acc: 0.9800\n",
      "Epoch 55/200\n",
      "200/200 [==============================] - 0s 376us/step - loss: 0.0068 - acc: 1.0000 - val_loss: 0.0643 - val_acc: 0.9800\n",
      "Epoch 56/200\n",
      "200/200 [==============================] - 0s 377us/step - loss: 0.0064 - acc: 1.0000 - val_loss: 0.0641 - val_acc: 0.9800\n",
      "Epoch 57/200\n",
      "200/200 [==============================] - 0s 351us/step - loss: 0.0069 - acc: 1.0000 - val_loss: 0.0546 - val_acc: 0.9750\n",
      "Epoch 58/200\n",
      "200/200 [==============================] - 0s 354us/step - loss: 0.0064 - acc: 1.0000 - val_loss: 0.0578 - val_acc: 0.9850\n",
      "Epoch 59/200\n",
      "200/200 [==============================] - 0s 343us/step - loss: 0.0057 - acc: 1.0000 - val_loss: 0.0577 - val_acc: 0.9850\n",
      "Epoch 60/200\n",
      "200/200 [==============================] - 0s 324us/step - loss: 0.0056 - acc: 1.0000 - val_loss: 0.0728 - val_acc: 0.9850\n"
     ]
    },
    {
     "name": "stdout",
     "output_type": "stream",
     "text": [
      "Epoch 61/200\n",
      "200/200 [==============================] - 0s 311us/step - loss: 0.0056 - acc: 1.0000 - val_loss: 0.0725 - val_acc: 0.9800\n",
      "Epoch 62/200\n",
      "200/200 [==============================] - 0s 338us/step - loss: 0.0040 - acc: 1.0000 - val_loss: 0.0541 - val_acc: 0.9800\n",
      "Epoch 63/200\n",
      "200/200 [==============================] - 0s 362us/step - loss: 0.0043 - acc: 1.0000 - val_loss: 0.0533 - val_acc: 0.9850\n",
      "Epoch 64/200\n",
      "200/200 [==============================] - 0s 342us/step - loss: 0.0048 - acc: 1.0000 - val_loss: 0.0497 - val_acc: 0.9900\n",
      "Epoch 65/200\n",
      "200/200 [==============================] - 0s 339us/step - loss: 0.0034 - acc: 1.0000 - val_loss: 0.0619 - val_acc: 0.9850\n",
      "Epoch 66/200\n",
      "200/200 [==============================] - 0s 331us/step - loss: 0.0028 - acc: 1.0000 - val_loss: 0.0522 - val_acc: 0.9850\n",
      "Epoch 67/200\n",
      "200/200 [==============================] - 0s 369us/step - loss: 0.0034 - acc: 1.0000 - val_loss: 0.0455 - val_acc: 0.9850\n",
      "Epoch 68/200\n",
      "200/200 [==============================] - 0s 380us/step - loss: 0.0033 - acc: 1.0000 - val_loss: 0.0507 - val_acc: 0.9850\n",
      "Epoch 69/200\n",
      "200/200 [==============================] - 0s 387us/step - loss: 0.0022 - acc: 1.0000 - val_loss: 0.0561 - val_acc: 0.9850\n",
      "Epoch 70/200\n",
      "200/200 [==============================] - 0s 356us/step - loss: 0.0022 - acc: 1.0000 - val_loss: 0.0531 - val_acc: 0.9850\n",
      "Epoch 71/200\n",
      "200/200 [==============================] - 0s 363us/step - loss: 0.0020 - acc: 1.0000 - val_loss: 0.0632 - val_acc: 0.9800\n",
      "Epoch 72/200\n",
      "200/200 [==============================] - 0s 389us/step - loss: 0.0026 - acc: 1.0000 - val_loss: 0.0704 - val_acc: 0.9800\n",
      "Epoch 73/200\n",
      "200/200 [==============================] - 0s 373us/step - loss: 0.0019 - acc: 1.0000 - val_loss: 0.0527 - val_acc: 0.9850\n",
      "Epoch 74/200\n",
      "200/200 [==============================] - 0s 365us/step - loss: 0.0016 - acc: 1.0000 - val_loss: 0.0547 - val_acc: 0.9850\n",
      "Epoch 75/200\n",
      "200/200 [==============================] - 0s 381us/step - loss: 0.0018 - acc: 1.0000 - val_loss: 0.0556 - val_acc: 0.9850\n",
      "Epoch 76/200\n",
      "200/200 [==============================] - 0s 378us/step - loss: 0.0015 - acc: 1.0000 - val_loss: 0.0682 - val_acc: 0.9800\n",
      "Epoch 77/200\n",
      "200/200 [==============================] - 0s 374us/step - loss: 0.0013 - acc: 1.0000 - val_loss: 0.0708 - val_acc: 0.9800\n",
      "Epoch 78/200\n",
      "200/200 [==============================] - 0s 337us/step - loss: 0.0013 - acc: 1.0000 - val_loss: 0.0528 - val_acc: 0.9850\n",
      "Epoch 79/200\n",
      "200/200 [==============================] - 0s 375us/step - loss: 0.0012 - acc: 1.0000 - val_loss: 0.0530 - val_acc: 0.9850\n",
      "Epoch 80/200\n",
      "200/200 [==============================] - 0s 341us/step - loss: 0.0011 - acc: 1.0000 - val_loss: 0.0549 - val_acc: 0.9850\n",
      "Epoch 81/200\n",
      "200/200 [==============================] - 0s 374us/step - loss: 8.4165e-04 - acc: 1.0000 - val_loss: 0.0608 - val_acc: 0.9850\n",
      "Epoch 82/200\n",
      "200/200 [==============================] - 0s 356us/step - loss: 0.0010 - acc: 1.0000 - val_loss: 0.0611 - val_acc: 0.9850\n",
      "Epoch 83/200\n",
      "200/200 [==============================] - 0s 353us/step - loss: 0.0011 - acc: 1.0000 - val_loss: 0.0471 - val_acc: 0.9850\n",
      "Epoch 84/200\n",
      "200/200 [==============================] - 0s 367us/step - loss: 0.0012 - acc: 1.0000 - val_loss: 0.0458 - val_acc: 0.9900\n",
      "Epoch 85/200\n",
      "200/200 [==============================] - 0s 347us/step - loss: 0.0010 - acc: 1.0000 - val_loss: 0.0538 - val_acc: 0.9850\n",
      "Epoch 86/200\n",
      "200/200 [==============================] - 0s 347us/step - loss: 6.0405e-04 - acc: 1.0000 - val_loss: 0.0586 - val_acc: 0.9850\n",
      "Epoch 87/200\n",
      "200/200 [==============================] - 0s 364us/step - loss: 8.2816e-04 - acc: 1.0000 - val_loss: 0.0553 - val_acc: 0.9850\n",
      "Epoch 88/200\n",
      "200/200 [==============================] - 0s 379us/step - loss: 5.6758e-04 - acc: 1.0000 - val_loss: 0.0563 - val_acc: 0.9850\n",
      "Epoch 89/200\n",
      "200/200 [==============================] - 0s 387us/step - loss: 7.8581e-04 - acc: 1.0000 - val_loss: 0.0616 - val_acc: 0.9800\n",
      "Epoch 90/200\n",
      "200/200 [==============================] - 0s 366us/step - loss: 7.0933e-04 - acc: 1.0000 - val_loss: 0.0523 - val_acc: 0.9900\n",
      "Epoch 91/200\n",
      "200/200 [==============================] - 0s 373us/step - loss: 5.7408e-04 - acc: 1.0000 - val_loss: 0.0683 - val_acc: 0.9850\n",
      "Epoch 92/200\n",
      "200/200 [==============================] - 0s 355us/step - loss: 7.4431e-04 - acc: 1.0000 - val_loss: 0.0548 - val_acc: 0.9850\n",
      "Epoch 93/200\n",
      "200/200 [==============================] - 0s 376us/step - loss: 6.6156e-04 - acc: 1.0000 - val_loss: 0.0555 - val_acc: 0.9800\n",
      "Epoch 94/200\n",
      "200/200 [==============================] - 0s 375us/step - loss: 4.5898e-04 - acc: 1.0000 - val_loss: 0.0674 - val_acc: 0.9800\n",
      "Epoch 95/200\n",
      "200/200 [==============================] - 0s 336us/step - loss: 6.1315e-04 - acc: 1.0000 - val_loss: 0.0432 - val_acc: 0.9850\n",
      "Epoch 96/200\n",
      "200/200 [==============================] - 0s 339us/step - loss: 6.0668e-04 - acc: 1.0000 - val_loss: 0.0554 - val_acc: 0.9850\n",
      "Epoch 97/200\n",
      "200/200 [==============================] - 0s 385us/step - loss: 4.1533e-04 - acc: 1.0000 - val_loss: 0.0545 - val_acc: 0.9850\n",
      "Epoch 98/200\n",
      "200/200 [==============================] - 0s 354us/step - loss: 4.6115e-04 - acc: 1.0000 - val_loss: 0.0562 - val_acc: 0.9850\n",
      "Epoch 99/200\n",
      "200/200 [==============================] - 0s 334us/step - loss: 6.6615e-04 - acc: 1.0000 - val_loss: 0.0604 - val_acc: 0.9850\n",
      "Epoch 100/200\n",
      "200/200 [==============================] - 0s 363us/step - loss: 4.6019e-04 - acc: 1.0000 - val_loss: 0.0668 - val_acc: 0.9850\n",
      "Epoch 101/200\n",
      "200/200 [==============================] - 0s 358us/step - loss: 3.7391e-04 - acc: 1.0000 - val_loss: 0.0570 - val_acc: 0.9850\n",
      "Epoch 102/200\n",
      "200/200 [==============================] - 0s 346us/step - loss: 3.4426e-04 - acc: 1.0000 - val_loss: 0.0649 - val_acc: 0.9850\n",
      "Epoch 103/200\n",
      "200/200 [==============================] - 0s 357us/step - loss: 3.1645e-04 - acc: 1.0000 - val_loss: 0.0734 - val_acc: 0.9800\n",
      "Epoch 104/200\n",
      "200/200 [==============================] - 0s 340us/step - loss: 3.1965e-04 - acc: 1.0000 - val_loss: 0.0637 - val_acc: 0.9850\n",
      "Epoch 105/200\n",
      "200/200 [==============================] - 0s 344us/step - loss: 6.1018e-04 - acc: 1.0000 - val_loss: 0.0600 - val_acc: 0.9850\n",
      "Epoch 106/200\n",
      "200/200 [==============================] - 0s 354us/step - loss: 3.2278e-04 - acc: 1.0000 - val_loss: 0.0565 - val_acc: 0.9850\n",
      "Epoch 107/200\n",
      "200/200 [==============================] - 0s 334us/step - loss: 2.8361e-04 - acc: 1.0000 - val_loss: 0.0594 - val_acc: 0.9850\n",
      "Epoch 108/200\n",
      "200/200 [==============================] - 0s 329us/step - loss: 4.8546e-04 - acc: 1.0000 - val_loss: 0.0599 - val_acc: 0.9850\n",
      "Epoch 109/200\n",
      "200/200 [==============================] - 0s 329us/step - loss: 2.6588e-04 - acc: 1.0000 - val_loss: 0.0610 - val_acc: 0.9850\n",
      "Epoch 110/200\n",
      "200/200 [==============================] - 0s 366us/step - loss: 3.8511e-04 - acc: 1.0000 - val_loss: 0.0619 - val_acc: 0.9850\n",
      "Epoch 111/200\n",
      "200/200 [==============================] - 0s 396us/step - loss: 3.2325e-04 - acc: 1.0000 - val_loss: 0.0592 - val_acc: 0.9850\n",
      "Epoch 112/200\n",
      "200/200 [==============================] - 0s 344us/step - loss: 2.6266e-04 - acc: 1.0000 - val_loss: 0.0605 - val_acc: 0.9850\n",
      "Epoch 113/200\n",
      "200/200 [==============================] - 0s 370us/step - loss: 2.7893e-04 - acc: 1.0000 - val_loss: 0.0528 - val_acc: 0.9900\n",
      "Epoch 114/200\n",
      "200/200 [==============================] - 0s 364us/step - loss: 2.8763e-04 - acc: 1.0000 - val_loss: 0.0686 - val_acc: 0.9850\n",
      "Epoch 115/200\n",
      "200/200 [==============================] - 0s 353us/step - loss: 3.0385e-04 - acc: 1.0000 - val_loss: 0.0815 - val_acc: 0.9850\n",
      "Epoch 116/200\n",
      "200/200 [==============================] - 0s 346us/step - loss: 2.6694e-04 - acc: 1.0000 - val_loss: 0.0661 - val_acc: 0.9850\n",
      "Epoch 117/200\n",
      "200/200 [==============================] - 0s 363us/step - loss: 1.9269e-04 - acc: 1.0000 - val_loss: 0.0691 - val_acc: 0.9850\n",
      "Epoch 118/200\n",
      "200/200 [==============================] - 0s 365us/step - loss: 2.7363e-04 - acc: 1.0000 - val_loss: 0.0618 - val_acc: 0.9850\n",
      "Epoch 119/200\n",
      "200/200 [==============================] - 0s 395us/step - loss: 1.5833e-04 - acc: 1.0000 - val_loss: 0.0678 - val_acc: 0.9850\n",
      "Epoch 120/200\n"
     ]
    },
    {
     "name": "stdout",
     "output_type": "stream",
     "text": [
      "200/200 [==============================] - 0s 339us/step - loss: 1.9657e-04 - acc: 1.0000 - val_loss: 0.0753 - val_acc: 0.9800\n",
      "Epoch 121/200\n",
      "200/200 [==============================] - 0s 329us/step - loss: 1.3581e-04 - acc: 1.0000 - val_loss: 0.0621 - val_acc: 0.9850\n",
      "Epoch 122/200\n",
      "200/200 [==============================] - 0s 335us/step - loss: 1.9650e-04 - acc: 1.0000 - val_loss: 0.0606 - val_acc: 0.9850\n",
      "Epoch 123/200\n",
      "200/200 [==============================] - 0s 345us/step - loss: 1.6207e-04 - acc: 1.0000 - val_loss: 0.0603 - val_acc: 0.9850\n",
      "Epoch 124/200\n",
      "200/200 [==============================] - 0s 353us/step - loss: 1.1940e-04 - acc: 1.0000 - val_loss: 0.0659 - val_acc: 0.9850\n",
      "Epoch 125/200\n",
      "200/200 [==============================] - 0s 377us/step - loss: 1.6227e-04 - acc: 1.0000 - val_loss: 0.0661 - val_acc: 0.9850\n",
      "Epoch 126/200\n",
      "200/200 [==============================] - 0s 408us/step - loss: 1.3613e-04 - acc: 1.0000 - val_loss: 0.0605 - val_acc: 0.9850\n",
      "Epoch 127/200\n",
      "200/200 [==============================] - 0s 372us/step - loss: 1.4717e-04 - acc: 1.0000 - val_loss: 0.0656 - val_acc: 0.9850\n",
      "Epoch 128/200\n",
      "200/200 [==============================] - 0s 349us/step - loss: 1.5209e-04 - acc: 1.0000 - val_loss: 0.0709 - val_acc: 0.9800\n",
      "Epoch 129/200\n",
      "200/200 [==============================] - 0s 415us/step - loss: 1.5366e-04 - acc: 1.0000 - val_loss: 0.0660 - val_acc: 0.9800\n",
      "Epoch 130/200\n",
      "200/200 [==============================] - 0s 346us/step - loss: 1.2538e-04 - acc: 1.0000 - val_loss: 0.0637 - val_acc: 0.9800\n",
      "Epoch 131/200\n",
      "200/200 [==============================] - 0s 395us/step - loss: 1.0496e-04 - acc: 1.0000 - val_loss: 0.0616 - val_acc: 0.9800\n",
      "Epoch 132/200\n",
      "200/200 [==============================] - 0s 462us/step - loss: 1.1647e-04 - acc: 1.0000 - val_loss: 0.0620 - val_acc: 0.9850\n",
      "Epoch 133/200\n",
      "200/200 [==============================] - 0s 373us/step - loss: 1.6674e-04 - acc: 1.0000 - val_loss: 0.0637 - val_acc: 0.9800\n",
      "Epoch 134/200\n",
      "200/200 [==============================] - 0s 384us/step - loss: 1.1121e-04 - acc: 1.0000 - val_loss: 0.0648 - val_acc: 0.9850\n",
      "Epoch 135/200\n",
      "200/200 [==============================] - 0s 383us/step - loss: 1.5364e-04 - acc: 1.0000 - val_loss: 0.0754 - val_acc: 0.9800\n",
      "Epoch 136/200\n",
      "200/200 [==============================] - 0s 377us/step - loss: 1.2466e-04 - acc: 1.0000 - val_loss: 0.0653 - val_acc: 0.9800\n",
      "Epoch 137/200\n",
      "200/200 [==============================] - 0s 349us/step - loss: 1.3212e-04 - acc: 1.0000 - val_loss: 0.0698 - val_acc: 0.9800\n",
      "Epoch 138/200\n",
      "200/200 [==============================] - 0s 379us/step - loss: 1.1123e-04 - acc: 1.0000 - val_loss: 0.0682 - val_acc: 0.9850\n",
      "Epoch 139/200\n",
      "200/200 [==============================] - 0s 379us/step - loss: 8.8657e-05 - acc: 1.0000 - val_loss: 0.0680 - val_acc: 0.9850\n",
      "Epoch 140/200\n",
      "200/200 [==============================] - 0s 347us/step - loss: 1.9582e-04 - acc: 1.0000 - val_loss: 0.0639 - val_acc: 0.9800\n",
      "Epoch 141/200\n",
      "200/200 [==============================] - 0s 362us/step - loss: 9.3749e-05 - acc: 1.0000 - val_loss: 0.0608 - val_acc: 0.9850\n",
      "Epoch 142/200\n",
      "200/200 [==============================] - 0s 387us/step - loss: 9.6820e-05 - acc: 1.0000 - val_loss: 0.0683 - val_acc: 0.9800\n",
      "Epoch 143/200\n",
      "200/200 [==============================] - 0s 330us/step - loss: 1.1709e-04 - acc: 1.0000 - val_loss: 0.0697 - val_acc: 0.9850\n",
      "Epoch 144/200\n",
      "200/200 [==============================] - 0s 352us/step - loss: 1.1577e-04 - acc: 1.0000 - val_loss: 0.0679 - val_acc: 0.9850\n",
      "Epoch 145/200\n",
      "200/200 [==============================] - 0s 345us/step - loss: 7.1548e-05 - acc: 1.0000 - val_loss: 0.0680 - val_acc: 0.9850\n",
      "Epoch 146/200\n",
      "200/200 [==============================] - 0s 367us/step - loss: 9.5017e-05 - acc: 1.0000 - val_loss: 0.0681 - val_acc: 0.9850\n",
      "Epoch 147/200\n",
      "200/200 [==============================] - 0s 351us/step - loss: 1.1052e-04 - acc: 1.0000 - val_loss: 0.0739 - val_acc: 0.9850\n",
      "Epoch 148/200\n",
      "200/200 [==============================] - 0s 386us/step - loss: 1.1369e-04 - acc: 1.0000 - val_loss: 0.0741 - val_acc: 0.9800\n",
      "Epoch 149/200\n",
      "200/200 [==============================] - 0s 359us/step - loss: 8.6253e-05 - acc: 1.0000 - val_loss: 0.0670 - val_acc: 0.9850\n",
      "Epoch 150/200\n",
      "200/200 [==============================] - 0s 374us/step - loss: 1.4668e-04 - acc: 1.0000 - val_loss: 0.0671 - val_acc: 0.9850\n",
      "Epoch 151/200\n",
      "200/200 [==============================] - 0s 357us/step - loss: 8.5421e-05 - acc: 1.0000 - val_loss: 0.0696 - val_acc: 0.9850\n",
      "Epoch 152/200\n",
      "200/200 [==============================] - 0s 367us/step - loss: 9.3591e-05 - acc: 1.0000 - val_loss: 0.0672 - val_acc: 0.9850\n",
      "Epoch 153/200\n",
      "200/200 [==============================] - 0s 387us/step - loss: 7.7503e-05 - acc: 1.0000 - val_loss: 0.0790 - val_acc: 0.9800\n",
      "Epoch 154/200\n",
      "200/200 [==============================] - 0s 397us/step - loss: 7.6304e-05 - acc: 1.0000 - val_loss: 0.0723 - val_acc: 0.9850\n",
      "Epoch 155/200\n",
      "200/200 [==============================] - 0s 388us/step - loss: 1.7534e-04 - acc: 1.0000 - val_loss: 0.0854 - val_acc: 0.9850\n",
      "Epoch 156/200\n",
      "200/200 [==============================] - 0s 360us/step - loss: 9.0282e-05 - acc: 1.0000 - val_loss: 0.0711 - val_acc: 0.9850\n",
      "Epoch 157/200\n",
      "200/200 [==============================] - 0s 382us/step - loss: 5.8787e-05 - acc: 1.0000 - val_loss: 0.0802 - val_acc: 0.9850\n",
      "Epoch 158/200\n",
      "200/200 [==============================] - 0s 350us/step - loss: 1.7590e-04 - acc: 1.0000 - val_loss: 0.0761 - val_acc: 0.9850\n",
      "Epoch 159/200\n",
      "200/200 [==============================] - 0s 374us/step - loss: 7.4490e-05 - acc: 1.0000 - val_loss: 0.0724 - val_acc: 0.9850\n",
      "Epoch 160/200\n",
      "200/200 [==============================] - 0s 341us/step - loss: 5.8888e-05 - acc: 1.0000 - val_loss: 0.0688 - val_acc: 0.9850\n",
      "Epoch 161/200\n",
      "200/200 [==============================] - 0s 346us/step - loss: 7.4118e-05 - acc: 1.0000 - val_loss: 0.0654 - val_acc: 0.9850\n",
      "Epoch 162/200\n",
      "200/200 [==============================] - 0s 360us/step - loss: 1.0759e-04 - acc: 1.0000 - val_loss: 0.0680 - val_acc: 0.9850\n",
      "Epoch 163/200\n",
      "200/200 [==============================] - 0s 386us/step - loss: 6.7605e-05 - acc: 1.0000 - val_loss: 0.0738 - val_acc: 0.9800\n",
      "Epoch 164/200\n",
      "200/200 [==============================] - 0s 375us/step - loss: 9.6720e-05 - acc: 1.0000 - val_loss: 0.0715 - val_acc: 0.9850\n",
      "Epoch 165/200\n",
      "200/200 [==============================] - 0s 388us/step - loss: 6.9830e-05 - acc: 1.0000 - val_loss: 0.0736 - val_acc: 0.9850\n",
      "Epoch 166/200\n",
      "200/200 [==============================] - 0s 401us/step - loss: 7.2673e-05 - acc: 1.0000 - val_loss: 0.0711 - val_acc: 0.9850\n",
      "Epoch 167/200\n",
      "200/200 [==============================] - 0s 366us/step - loss: 5.7458e-05 - acc: 1.0000 - val_loss: 0.0721 - val_acc: 0.9850\n",
      "Epoch 168/200\n",
      "200/200 [==============================] - 0s 389us/step - loss: 6.4811e-05 - acc: 1.0000 - val_loss: 0.0741 - val_acc: 0.9850\n",
      "Epoch 169/200\n",
      "200/200 [==============================] - 0s 366us/step - loss: 6.3873e-05 - acc: 1.0000 - val_loss: 0.0749 - val_acc: 0.9850\n",
      "Epoch 170/200\n",
      "200/200 [==============================] - 0s 380us/step - loss: 6.3875e-05 - acc: 1.0000 - val_loss: 0.0711 - val_acc: 0.9850\n",
      "Epoch 171/200\n",
      "200/200 [==============================] - 0s 382us/step - loss: 5.6955e-05 - acc: 1.0000 - val_loss: 0.0707 - val_acc: 0.9850\n",
      "Epoch 172/200\n",
      "200/200 [==============================] - 0s 400us/step - loss: 7.1026e-05 - acc: 1.0000 - val_loss: 0.0775 - val_acc: 0.9800\n",
      "Epoch 173/200\n",
      "200/200 [==============================] - 0s 391us/step - loss: 6.1693e-05 - acc: 1.0000 - val_loss: 0.0693 - val_acc: 0.9850\n",
      "Epoch 174/200\n",
      "200/200 [==============================] - 0s 354us/step - loss: 6.4169e-05 - acc: 1.0000 - val_loss: 0.0775 - val_acc: 0.9800\n",
      "Epoch 175/200\n",
      "200/200 [==============================] - 0s 389us/step - loss: 7.8171e-05 - acc: 1.0000 - val_loss: 0.0665 - val_acc: 0.9850\n",
      "Epoch 176/200\n",
      "200/200 [==============================] - 0s 391us/step - loss: 7.0015e-05 - acc: 1.0000 - val_loss: 0.0763 - val_acc: 0.9800\n",
      "Epoch 177/200\n",
      "200/200 [==============================] - 0s 333us/step - loss: 5.9916e-05 - acc: 1.0000 - val_loss: 0.0745 - val_acc: 0.9800\n",
      "Epoch 178/200\n"
     ]
    },
    {
     "name": "stdout",
     "output_type": "stream",
     "text": [
      "200/200 [==============================] - 0s 361us/step - loss: 5.4533e-05 - acc: 1.0000 - val_loss: 0.0687 - val_acc: 0.9850\n",
      "Epoch 179/200\n",
      "200/200 [==============================] - 0s 357us/step - loss: 5.2167e-05 - acc: 1.0000 - val_loss: 0.0712 - val_acc: 0.9850\n",
      "Epoch 180/200\n",
      "200/200 [==============================] - 0s 331us/step - loss: 4.8843e-05 - acc: 1.0000 - val_loss: 0.0709 - val_acc: 0.9850\n",
      "Epoch 181/200\n",
      "200/200 [==============================] - 0s 353us/step - loss: 5.0177e-05 - acc: 1.0000 - val_loss: 0.0738 - val_acc: 0.9850\n",
      "Epoch 182/200\n",
      "200/200 [==============================] - 0s 353us/step - loss: 5.3112e-05 - acc: 1.0000 - val_loss: 0.0872 - val_acc: 0.9850\n",
      "Epoch 183/200\n",
      "200/200 [==============================] - 0s 355us/step - loss: 5.0580e-05 - acc: 1.0000 - val_loss: 0.0714 - val_acc: 0.9850\n",
      "Epoch 184/200\n",
      "200/200 [==============================] - 0s 413us/step - loss: 4.0506e-05 - acc: 1.0000 - val_loss: 0.0719 - val_acc: 0.9850\n",
      "Epoch 185/200\n",
      "200/200 [==============================] - 0s 343us/step - loss: 4.8207e-05 - acc: 1.0000 - val_loss: 0.0743 - val_acc: 0.9800\n",
      "Epoch 186/200\n",
      "200/200 [==============================] - 0s 340us/step - loss: 4.8498e-05 - acc: 1.0000 - val_loss: 0.0812 - val_acc: 0.9850\n",
      "Epoch 187/200\n",
      "200/200 [==============================] - 0s 370us/step - loss: 1.0702e-04 - acc: 1.0000 - val_loss: 0.0837 - val_acc: 0.9850\n",
      "Epoch 188/200\n",
      "200/200 [==============================] - 0s 348us/step - loss: 4.2929e-05 - acc: 1.0000 - val_loss: 0.0790 - val_acc: 0.9850\n",
      "Epoch 189/200\n",
      "200/200 [==============================] - 0s 396us/step - loss: 5.3934e-05 - acc: 1.0000 - val_loss: 0.0684 - val_acc: 0.9850\n",
      "Epoch 190/200\n",
      "200/200 [==============================] - 0s 350us/step - loss: 3.8656e-05 - acc: 1.0000 - val_loss: 0.0698 - val_acc: 0.9850\n",
      "Epoch 191/200\n",
      "200/200 [==============================] - 0s 353us/step - loss: 2.8135e-05 - acc: 1.0000 - val_loss: 0.0686 - val_acc: 0.9850\n",
      "Epoch 192/200\n",
      "200/200 [==============================] - 0s 373us/step - loss: 3.3978e-05 - acc: 1.0000 - val_loss: 0.0689 - val_acc: 0.9850\n",
      "Epoch 193/200\n",
      "200/200 [==============================] - 0s 367us/step - loss: 3.5373e-05 - acc: 1.0000 - val_loss: 0.0731 - val_acc: 0.9850\n",
      "Epoch 194/200\n",
      "200/200 [==============================] - 0s 394us/step - loss: 3.1869e-05 - acc: 1.0000 - val_loss: 0.0761 - val_acc: 0.9850\n",
      "Epoch 195/200\n",
      "200/200 [==============================] - 0s 366us/step - loss: 3.4184e-05 - acc: 1.0000 - val_loss: 0.0753 - val_acc: 0.9850\n",
      "Epoch 196/200\n",
      "200/200 [==============================] - 0s 380us/step - loss: 4.1821e-05 - acc: 1.0000 - val_loss: 0.0755 - val_acc: 0.9850\n",
      "Epoch 197/200\n",
      "200/200 [==============================] - 0s 387us/step - loss: 3.5091e-05 - acc: 1.0000 - val_loss: 0.0753 - val_acc: 0.9850\n",
      "Epoch 198/200\n",
      "200/200 [==============================] - 0s 323us/step - loss: 8.3814e-05 - acc: 1.0000 - val_loss: 0.0677 - val_acc: 0.9850\n",
      "Epoch 199/200\n",
      "200/200 [==============================] - 0s 407us/step - loss: 4.6764e-05 - acc: 1.0000 - val_loss: 0.0665 - val_acc: 0.9850\n",
      "Epoch 200/200\n",
      "200/200 [==============================] - 0s 366us/step - loss: 3.9843e-05 - acc: 1.0000 - val_loss: 0.0680 - val_acc: 0.9850\n"
     ]
    }
   ],
   "source": [
    "# training\n",
    "t1 = time.time()\n",
    "history = model.fit(x_train, y_train,\n",
    "                    batch_size=batch_size,\n",
    "                    epochs=epochs,\n",
    "                    verbose=1,\n",
    "                    validation_data=(x_test, y_test))\n",
    "t2 = time.time()"
   ]
  },
  {
   "cell_type": "code",
   "execution_count": 13,
   "metadata": {},
   "outputs": [
    {
     "name": "stdout",
     "output_type": "stream",
     "text": [
      "('training time, ', 20.595954179763794)\n",
      "('Train loss:', 2.0810966852877754e-05)\n",
      "('Train accuracy:', 1.0)\n",
      "('testing time, ', 0.02232503890991211)\n",
      "('Test loss:', 0.06802781160920858)\n",
      "('Test accuracy:', 0.985)\n"
     ]
    }
   ],
   "source": [
    "# print train and test losses and classification accuracies\n",
    "print('training time, ', t2-t1)\n",
    "\n",
    "score = model.evaluate(x_train, y_train, verbose=0)\n",
    "print('Train loss:', score[0])\n",
    "print('Train accuracy:', score[1])\n",
    "t1 = time.time()\n",
    "score = model.evaluate(x_test, y_test, verbose=0)\n",
    "t2 = time.time()\n",
    "print('testing time, ', t2-t1)\n",
    "print('Test loss:', score[0])\n",
    "print('Test accuracy:', score[1])"
   ]
  },
  {
   "cell_type": "code",
   "execution_count": 14,
   "metadata": {
    "scrolled": true
   },
   "outputs": [
    {
     "data": {
      "image/png": "[encoded data removed]",
      "text/plain": [
       "<matplotlib.figure.Figure at 0x7f615ba07590>"
      ]
     },
     "metadata": {},
     "output_type": "display_data"
    },
    {
     "data": {
      "image/png": "[encoded data removed]",
      "text/plain": [
       "<matplotlib.figure.Figure at 0x7f6173b099d0>"
      ]
     },
     "metadata": {},
     "output_type": "display_data"
    }
   ],
   "source": [
    "# summarize history for accuracy\n",
    "plt.plot(history.history['acc'])\n",
    "plt.plot(history.history['val_acc'])\n",
    "plt.title('model accuracy')\n",
    "plt.ylabel('accuracy')\n",
    "plt.xlabel('epoch')\n",
    "plt.legend(['train', 'test'], loc='upper left')\n",
    "plt.show()\n",
    "# summarize history for loss\n",
    "plt.plot(history.history['loss'])\n",
    "plt.plot(history.history['val_loss'])\n",
    "plt.title('model loss')\n",
    "plt.ylabel('loss')\n",
    "plt.xlabel('epoch')\n",
    "plt.legend(['train', 'test'], loc='upper left')\n",
    "plt.show()"
   ]
  },
  {
   "cell_type": "code",
   "execution_count": 11,
   "metadata": {
    "scrolled": true
   },
   "outputs": [
    {
     "name": "stdout",
     "output_type": "stream",
     "text": [
      "[0.02569998 0.0329023  0.03658417 0.03788112 0.03899948 0.03956822\n",
      " 0.04146465 0.04737055 0.04365301 0.05827225 0.04375132 0.04469708\n",
      " 0.0455665  0.05055225 0.04921186 0.04659267 0.04237656 0.03774918\n",
      " 0.042409   0.03988333 0.03319136 0.02842506 0.02801655 0.01991258\n",
      " 0.03746806 0.04018486 0.04205803 0.04656271 0.0505125  0.05323464\n",
      " 0.05124555 0.05523592 0.05276084 0.05803249 0.05752019 0.05617123\n",
      " 0.05573309 0.05873853 0.0599565  0.05767156 0.05611209 0.04907218\n",
      " 0.05015267 0.04240472 0.03775554 0.03376576 0.02870449 0.02284262\n",
      " 0.03509185 0.03951832 0.05027428 0.05480395 0.04957435 0.05620831\n",
      " 0.06638559 0.06274372 0.05516003 0.06365773 0.06514715 0.06145165\n",
      " 0.06392594 0.0675129  0.05703187 0.05723546 0.06136958 0.05697515\n",
      " 0.05527093 0.05306605 0.04381475 0.04320288 0.03283041 0.03032833\n",
      " 0.0388562  0.04990136 0.05929438 0.05154394 0.05991545 0.05753338\n",
      " 0.06303034 0.06480517 0.06174197 0.05857897 0.06067646 0.05780281\n",
      " 0.05866599 0.0623491  0.05450298 0.06610634 0.06088831 0.06418743\n",
      " 0.06141374 0.06018434 0.05332035 0.05047552 0.03847587 0.03529362\n",
      " 0.03500387 0.05605833 0.05610631 0.06287525 0.06524765 0.0602635\n",
      " 0.06124184 0.05370208 0.05697494 0.05149768 0.05208314 0.0536419\n",
      " 0.05621328 0.05207134 0.05710964 0.05346328 0.06310067 0.0655953\n",
      " 0.05841094 0.05866978 0.05563019 0.04620593 0.04522777 0.0393283\n",
      " 0.04474731 0.05645587 0.06225529 0.06266439 0.06155054 0.06486437\n",
      " 0.05104939 0.05770816 0.04728195 0.04901036 0.04648261 0.04514173\n",
      " 0.04814378 0.04608442 0.05421932 0.05468854 0.05536279 0.05819227\n",
      " 0.0505104  0.05934945 0.05921324 0.04829762 0.05152658 0.03624088\n",
      " 0.0407077  0.05466713 0.0588523  0.06787695 0.0592704  0.05972758\n",
      " 0.04812356 0.04572058 0.04437922 0.0336229  0.03492772 0.03472295\n",
      " 0.03671461 0.03406847 0.03885061 0.04738297 0.04918235 0.04876098\n",
      " 0.06322897 0.05706139 0.06028047 0.06122089 0.04742549 0.03644373\n",
      " 0.0514508  0.05758367 0.06242728 0.06093447 0.05822398 0.0520189\n",
      " 0.04006725 0.03833864 0.03330292 0.02707042 0.02739621 0.02015314\n",
      " 0.02446255 0.02636594 0.02732881 0.04299793 0.04700828 0.04534221\n",
      " 0.05975497 0.05789826 0.05868993 0.05911981 0.05080845 0.04579787\n",
      " 0.04663607 0.05738282 0.06345188 0.06128844 0.05885    0.04848296\n",
      " 0.04086272 0.03137715 0.02651523 0.0184745  0.01931972 0.01794219\n",
      " 0.0177626  0.01919899 0.02347221 0.03898595 0.03998038 0.05232312\n",
      " 0.06606546 0.05820089 0.06296392 0.05851434 0.05455126 0.04515196\n",
      " 0.0466097  0.05721949 0.06157619 0.05833573 0.05471702 0.04562117\n",
      " 0.03197686 0.02296614 0.01973206 0.0154994  0.0121694  0.01308768\n",
      " 0.01160252 0.01779771 0.01974644 0.0306851  0.03888048 0.04232965\n",
      " 0.04880401 0.05844503 0.06069025 0.06093851 0.05582696 0.04848372\n",
      " 0.05085413 0.04925347 0.06389639 0.06442518 0.05232417 0.04234845\n",
      " 0.03617512 0.02411295 0.01786403 0.01398169 0.0094309  0.01208161\n",
      " 0.00975447 0.01250207 0.01839428 0.03171109 0.03845513 0.05107062\n",
      " 0.05427307 0.05458223 0.06069827 0.06003679 0.05132821 0.0392909\n",
      " 0.04976862 0.05725057 0.06197398 0.06675662 0.05488794 0.04591246\n",
      " 0.03589797 0.02351198 0.01626832 0.01049372 0.01052083 0.01045514\n",
      " 0.01250394 0.01341136 0.01606412 0.03308269 0.03543556 0.04319766\n",
      " 0.057048   0.05895121 0.06123805 0.0670843  0.05876945 0.04984917\n",
      " 0.04835815 0.06413889 0.0551755  0.06272389 0.05741864 0.0509242\n",
      " 0.03546496 0.02614907 0.01452792 0.01432629 0.01221293 0.01127571\n",
      " 0.01287521 0.01435756 0.01664388 0.02807929 0.03276456 0.05111475\n",
      " 0.04967629 0.05622306 0.05990382 0.06135956 0.05030508 0.05031259\n",
      " 0.05283367 0.05644284 0.05711431 0.06105293 0.05438604 0.0494448\n",
      " 0.03486315 0.02714933 0.01769253 0.01340253 0.01873106 0.01473234\n",
      " 0.01596706 0.01519527 0.0198066  0.03678734 0.03723248 0.04903133\n",
      " 0.05868451 0.06716969 0.06064199 0.06378187 0.0540232  0.04681262\n",
      " 0.05256498 0.05693953 0.06021661 0.06031842 0.0596352  0.05297823\n",
      " 0.03484643 0.0295359  0.02182919 0.02024342 0.01807047 0.01629268\n",
      " 0.01654093 0.01728434 0.01656057 0.03288593 0.04400137 0.05494963\n",
      " 0.05502008 0.05637595 0.06456875 0.05558967 0.05752622 0.0445906\n",
      " 0.05077008 0.05218331 0.06433384 0.06215611 0.05911835 0.0515552\n",
      " 0.04895537 0.03719557 0.03194659 0.02574513 0.02441472 0.02607281\n",
      " 0.0284402  0.02702456 0.03388807 0.04448755 0.05423647 0.05268693\n",
      " 0.06003331 0.05959029 0.06004322 0.05340049 0.05469148 0.04159448\n",
      " 0.04333388 0.05722228 0.05842139 0.06310458 0.05924266 0.06310504\n",
      " 0.04907188 0.04552658 0.04215157 0.03385122 0.03653252 0.03515005\n",
      " 0.0330654  0.03687052 0.04416449 0.05231723 0.05306458 0.05831167\n",
      " 0.0525825  0.05979848 0.05965554 0.05034244 0.05365909 0.0394318\n",
      " 0.04212051 0.04971047 0.06218125 0.06064041 0.05846311 0.06142043\n",
      " 0.05511591 0.05220372 0.04478203 0.03968892 0.04413247 0.03728571\n",
      " 0.04354366 0.04899754 0.04408954 0.0456171  0.0567917  0.05805522\n",
      " 0.06222063 0.06406641 0.05733376 0.05778271 0.04485282 0.04115255\n",
      " 0.03726689 0.04765539 0.0508976  0.06251275 0.05938841 0.0673533\n",
      " 0.05826077 0.05811537 0.05616002 0.0570401  0.0549654  0.05771942\n",
      " 0.05622535 0.05581634 0.05604806 0.06020142 0.06281766 0.06402515\n",
      " 0.06052181 0.06219873 0.06207073 0.05180009 0.04906593 0.03508974\n",
      " 0.03758546 0.04379668 0.04521575 0.05565793 0.0609158  0.05688033\n",
      " 0.06213976 0.06065834 0.0579768  0.06679491 0.05712299 0.05743233\n",
      " 0.06036568 0.05592216 0.05692146 0.06109201 0.06258473 0.05837573\n",
      " 0.06350643 0.05552885 0.05534002 0.05399382 0.04799379 0.03424936\n",
      " 0.03384838 0.04025435 0.05173809 0.05444789 0.06037039 0.06399858\n",
      " 0.06020353 0.06572837 0.06062116 0.060561   0.05351669 0.06419209\n",
      " 0.06222426 0.06275687 0.0629328  0.06501531 0.05370156 0.05988748\n",
      " 0.05877911 0.05683977 0.05045349 0.0469335  0.04079575 0.03478854\n",
      " 0.02657445 0.0306726  0.03889668 0.04520462 0.0502482  0.05740871\n",
      " 0.05106112 0.05392075 0.06347154 0.05486128 0.05335446 0.05350629\n",
      " 0.05768945 0.06267799 0.05451719 0.04934325 0.05150788 0.05074757\n",
      " 0.0497405  0.04392475 0.04151973 0.03912851 0.03468204 0.02763021\n",
      " 0.02500578 0.02293014 0.03287606 0.03990513 0.04251044 0.04457917\n",
      " 0.05276308 0.04372944 0.04908762 0.04841626 0.0525494  0.05088832\n",
      " 0.05144977 0.04806773 0.04924203 0.04964577 0.04638107 0.04535369\n",
      " 0.03551408 0.04126136 0.03969901 0.03406198 0.02890436 0.02496955\n",
      " 0.01467564 0.02112544 0.02661904 0.03215553 0.03243606 0.03600633\n",
      " 0.03928955 0.04175788 0.04107399 0.04411534 0.03857603 0.04039265\n",
      " 0.039797   0.03802507 0.04400358 0.04124695 0.03608416 0.03696605\n",
      " 0.0360859  0.03312221 0.03573747 0.02872104 0.024555   0.02442045]\n",
      "0.009430902164118588\n",
      "0.06787694874744876\n"
     ]
    },
    {
     "data": {
      "text/plain": [
       "(array([ 23.,  26.,  22.,  24.,  59.,  62.,  75.,  99., 127.,  59.]),\n",
       " array([0.0094309 , 0.01527551, 0.02112011, 0.02696472, 0.03280932,\n",
       "        0.03865393, 0.04449853, 0.05034313, 0.05618774, 0.06203234,\n",
       "        0.06787695]),\n",
       " <a list of 10 Patch objects>)"
      ]
     },
     "execution_count": 11,
     "metadata": {},
     "output_type": "execute_result"
    },
    {
     "data": {
      "image/png": "[encoded data removed]",
      "text/plain": [
       "<matplotlib.figure.Figure at 0x7fbb12064190>"
      ]
     },
     "metadata": {},
     "output_type": "display_data"
    }
   ],
   "source": [
    "var = np.array([np.var(x_train_vec[:,c]) for c in range(x_train_vec.shape[1])])\n",
    "print var\n",
    "print min(var)\n",
    "print max(var)\n",
    "plt.hist(var)"
   ]
  },
  {
   "cell_type": "code",
   "execution_count": 14,
   "metadata": {},
   "outputs": [
    {
     "name": "stdout",
     "output_type": "stream",
     "text": [
      "('x_train shape ', (200, 291))\n",
      "('x_test shape ', (200, 291))\n",
      "('choose col ', 272, '; gain information content ', 0.10688591034645722)\n",
      "('choose col ', 245, '; gain information content ', 0.09075140515243185)\n",
      "('choose col ', 182, '; gain information content ', 0.09168920790179558)\n",
      "('choose col ', 204, '; gain information content ', 0.3975760379157159)\n",
      "('choose col ', 194, '; gain information content ', 0.3227569588973982)\n",
      "('choose col ', 281, '; gain information content ', 0.15085093174190756)\n",
      "('choose col ', 199, '; gain information content ', 0.19299827493687083)\n",
      "('choose col ', 53, '; gain information content ', 0.2916979827156446)\n",
      "('choose col ', 202, '; gain information content ', 0.3881115531547389)\n",
      "('choose col ', 35, '; gain information content ', 0.6548575458269758)\n",
      "('choose col ', 3, '; gain information content ', 0.6500224216483541)\n",
      "('choose col ', 237, '; gain information content ', 0.23201238816811887)\n",
      "('choose col ', 182, '; gain information content ', 0.38306898300392245)\n",
      "('choose col ', 12, '; gain information content ', 0.24988229283318544)\n",
      "('choose col ', 0, '; gain information content ', 0.6500224216483541)\n",
      "('choose col ', 285, '; gain information content ', 0.25166484273191037)\n",
      "('choose col ', 243, '; gain information content ', 0.18095733240984385)\n",
      "('choose col ', 2, '; gain information content ', 1.0)\n",
      "('choose col ', 87, '; gain information content ', 0.43397140637456644)\n",
      "('choose col ', 204, '; gain information content ', 0.8904916402194913)\n",
      "('training time ', 86.10613489151001)\n",
      "('training acc ', 1.0)\n",
      "('testing time ', 0.1433100700378418)\n",
      "('testing acc ', 0.62)\n"
     ]
    }
   ],
   "source": [
    "nx_train_vec = x_train_vec[:, var >= 0.05]\n",
    "nx_test_vec = x_test_vec[:, var >= 0.05]\n",
    "print('x_train shape ', nx_train_vec.shape)\n",
    "print('x_test shape ', nx_test_vec.shape)\n",
    "\n",
    "t1 = time.time()\n",
    "model = dt_build(nx_train_vec, y_train, threshold=0.1)\n",
    "t2 = time.time()\n",
    "print('training time ', t2-t1)\n",
    "\n",
    "train_acc = dt_test(model, nx_train_vec, y_train)\n",
    "print('training acc ', train_acc)\n",
    "t1 = time.time()\n",
    "test_acc = dt_test(model, nx_test_vec, y_test)\n",
    "t2 = time.time()\n",
    "print('testing time ', t2-t1)\n",
    "print('testing acc ', test_acc)"
   ]
  }
 ],
 "metadata": {
  "kernelspec": {
   "display_name": "Python 3",
   "language": "python",
   "name": "python3"
  },
  "language_info": {
   "codemirror_mode": {
    "name": "ipython",
    "version": 2
   },
   "file_extension": ".py",
   "mimetype": "text/x-python",
   "name": "python",
   "nbconvert_exporter": "python",
   "pygments_lexer": "ipython2",
   "version": "2.7.6"
  }
 },
 "nbformat": 4,
 "nbformat_minor": 2
}
